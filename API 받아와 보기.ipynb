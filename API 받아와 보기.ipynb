{
 "cells": [
  {
   "cell_type": "code",
   "execution_count": 11,
   "id": "e9eb43a6",
   "metadata": {},
   "outputs": [
    {
     "data": {
      "text/html": [
       "<div>\n",
       "<style scoped>\n",
       "    .dataframe tbody tr th:only-of-type {\n",
       "        vertical-align: middle;\n",
       "    }\n",
       "\n",
       "    .dataframe tbody tr th {\n",
       "        vertical-align: top;\n",
       "    }\n",
       "\n",
       "    .dataframe thead th {\n",
       "        text-align: right;\n",
       "    }\n",
       "</style>\n",
       "<table border=\"1\" class=\"dataframe\">\n",
       "  <thead>\n",
       "    <tr style=\"text-align: right;\">\n",
       "      <th></th>\n",
       "      <th>ncocpgfiaoituanbr</th>\n",
       "    </tr>\n",
       "  </thead>\n",
       "  <tbody>\n",
       "    <tr>\n",
       "      <th>0</th>\n",
       "      <td>{'head': [{'list_total_count': 1}, {'RESULT': ...</td>\n",
       "    </tr>\n",
       "    <tr>\n",
       "      <th>1</th>\n",
       "      <td>{'row': [{'BILL_ID': 'PRC_U2Y0F1B1Q3V0B1X5B4E4...</td>\n",
       "    </tr>\n",
       "  </tbody>\n",
       "</table>\n",
       "</div>"
      ],
      "text/plain": [
       "                                   ncocpgfiaoituanbr\n",
       "0  {'head': [{'list_total_count': 1}, {'RESULT': ...\n",
       "1  {'row': [{'BILL_ID': 'PRC_U2Y0F1B1Q3V0B1X5B4E4..."
      ]
     },
     "execution_count": 11,
     "metadata": {},
     "output_type": "execute_result"
    }
   ],
   "source": [
    "import requests\n",
    "import pprint\n",
    "import json\n",
    "import pandas as pd\n",
    "# url 입력\n",
    "url = 'https://open.assembly.go.kr/portal/openapi/ncocpgfiaoituanbr?AGE=21&BILL_NO=2106221&Type=json'\n",
    "\n",
    "# url 불러오기\n",
    "response = requests.get(url)\n",
    "contents = response.text\n",
    "pp = pprint.PrettyPrinter(indent=4)\n",
    "\n",
    "json_ob = json.loads(contents)\n",
    "\n",
    "df = pd.DataFrame(json_ob)\n",
    "#데이터 값 출력해보기\n",
    "df"
   ]
  },
  {
   "cell_type": "code",
   "execution_count": 13,
   "id": "a704ec77",
   "metadata": {},
   "outputs": [
    {
     "data": {
      "text/plain": [
       "0    {'head': [{'list_total_count': 1}, {'RESULT': ...\n",
       "1    {'row': [{'BILL_ID': 'PRC_U2Y0F1B1Q3V0B1X5B4E4...\n",
       "Name: ncocpgfiaoituanbr, dtype: object"
      ]
     },
     "execution_count": 13,
     "metadata": {},
     "output_type": "execute_result"
    }
   ],
   "source": [
    "df['ncocpgfiaoituanbr']"
   ]
  },
  {
   "cell_type": "code",
   "execution_count": 15,
   "id": "6c7e7cf4",
   "metadata": {},
   "outputs": [
    {
     "data": {
      "text/plain": [
       "{'head': [{'list_total_count': 1},\n",
       "  {'RESULT': {'CODE': 'INFO-000', 'MESSAGE': '정상 처리되었습니다.'}}]}"
      ]
     },
     "execution_count": 15,
     "metadata": {},
     "output_type": "execute_result"
    }
   ],
   "source": [
    "df['ncocpgfiaoituanbr'][0]"
   ]
  },
  {
   "cell_type": "code",
   "execution_count": 19,
   "id": "58443bc7",
   "metadata": {},
   "outputs": [
    {
     "data": {
      "text/plain": [
       "{'row': [{'BILL_ID': 'PRC_U2Y0F1B1Q3V0B1X5B4E4V3T7T7X0K8',\n",
       "   'PROC_DT': '2020-12-13',\n",
       "   'BILL_NO': '2106221',\n",
       "   'BILL_NAME': '국가정보원법 전부개정법률안(대안)(정보위원장)',\n",
       "   'CURR_COMMITTEE': '정보위원회',\n",
       "   'CURR_COMMITTEE_ID': '9700047',\n",
       "   'PROC_RESULT_CD': '원안가결',\n",
       "   'BILL_KIND_CD': '법률안',\n",
       "   'AGE': '21',\n",
       "   'MEMBER_TCNT': 300,\n",
       "   'VOTE_TCNT': 187,\n",
       "   'YES_TCNT': 187,\n",
       "   'NO_TCNT': 0,\n",
       "   'BLANK_TCNT': 0,\n",
       "   'LINK_URL': 'https://likms.assembly.go.kr/bill/billDetail.do?billId=PRC_U2Y0F1B1Q3V0B1X5B4E4V3T7T7X0K8'}]}"
      ]
     },
     "execution_count": 19,
     "metadata": {},
     "output_type": "execute_result"
    }
   ],
   "source": [
    "df['ncocpgfiaoituanbr'][1]"
   ]
  },
  {
   "cell_type": "code",
   "execution_count": 22,
   "id": "c0e6295b",
   "metadata": {},
   "outputs": [
    {
     "data": {
      "text/plain": [
       "[{'BILL_ID': 'PRC_U2Y0F1B1Q3V0B1X5B4E4V3T7T7X0K8',\n",
       "  'PROC_DT': '2020-12-13',\n",
       "  'BILL_NO': '2106221',\n",
       "  'BILL_NAME': '국가정보원법 전부개정법률안(대안)(정보위원장)',\n",
       "  'CURR_COMMITTEE': '정보위원회',\n",
       "  'CURR_COMMITTEE_ID': '9700047',\n",
       "  'PROC_RESULT_CD': '원안가결',\n",
       "  'BILL_KIND_CD': '법률안',\n",
       "  'AGE': '21',\n",
       "  'MEMBER_TCNT': 300,\n",
       "  'VOTE_TCNT': 187,\n",
       "  'YES_TCNT': 187,\n",
       "  'NO_TCNT': 0,\n",
       "  'BLANK_TCNT': 0,\n",
       "  'LINK_URL': 'https://likms.assembly.go.kr/bill/billDetail.do?billId=PRC_U2Y0F1B1Q3V0B1X5B4E4V3T7T7X0K8'}]"
      ]
     },
     "execution_count": 22,
     "metadata": {},
     "output_type": "execute_result"
    }
   ],
   "source": [
    "df['ncocpgfiaoituanbr'][1]['row']"
   ]
  },
  {
   "cell_type": "code",
   "execution_count": 23,
   "id": "7d936b1d",
   "metadata": {},
   "outputs": [
    {
     "data": {
      "text/plain": [
       "{'BILL_ID': 'PRC_U2Y0F1B1Q3V0B1X5B4E4V3T7T7X0K8',\n",
       " 'PROC_DT': '2020-12-13',\n",
       " 'BILL_NO': '2106221',\n",
       " 'BILL_NAME': '국가정보원법 전부개정법률안(대안)(정보위원장)',\n",
       " 'CURR_COMMITTEE': '정보위원회',\n",
       " 'CURR_COMMITTEE_ID': '9700047',\n",
       " 'PROC_RESULT_CD': '원안가결',\n",
       " 'BILL_KIND_CD': '법률안',\n",
       " 'AGE': '21',\n",
       " 'MEMBER_TCNT': 300,\n",
       " 'VOTE_TCNT': 187,\n",
       " 'YES_TCNT': 187,\n",
       " 'NO_TCNT': 0,\n",
       " 'BLANK_TCNT': 0,\n",
       " 'LINK_URL': 'https://likms.assembly.go.kr/bill/billDetail.do?billId=PRC_U2Y0F1B1Q3V0B1X5B4E4V3T7T7X0K8'}"
      ]
     },
     "execution_count": 23,
     "metadata": {},
     "output_type": "execute_result"
    }
   ],
   "source": [
    "df['ncocpgfiaoituanbr'][1]['row'][0]"
   ]
  }
 ],
 "metadata": {
  "kernelspec": {
   "display_name": "Python 3 (ipykernel)",
   "language": "python",
   "name": "python3"
  },
  "language_info": {
   "codemirror_mode": {
    "name": "ipython",
    "version": 3
   },
   "file_extension": ".py",
   "mimetype": "text/x-python",
   "name": "python",
   "nbconvert_exporter": "python",
   "pygments_lexer": "ipython3",
   "version": "3.9.12"
  }
 },
 "nbformat": 4,
 "nbformat_minor": 5
}
