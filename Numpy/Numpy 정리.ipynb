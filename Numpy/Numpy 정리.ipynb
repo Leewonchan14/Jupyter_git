{
 "cells": [
  {
   "cell_type": "code",
   "execution_count": 2,
   "id": "75315f49",
   "metadata": {},
   "outputs": [],
   "source": [
    "import numpy as np"
   ]
  },
  {
   "cell_type": "code",
   "execution_count": 101,
   "id": "ff297577",
   "metadata": {},
   "outputs": [
    {
     "name": "stdout",
     "output_type": "stream",
     "text": [
      "[[0. 0. 0.]\n",
      " [0. 0. 0.]]\n",
      "[[0. 0. 0.]\n",
      " [0. 0. 0.]]\n",
      "[0 1 2 3 4 5 6 7 8 9]\n",
      "[[0 1 2]\n",
      " [3 4 5]\n",
      " [6 7 8]]\n",
      "[[-1.178118    0.1517618   0.60427691 -1.51105895]\n",
      " [ 1.18363825  0.49754317  0.01474699  0.58088242]\n",
      " [ 0.00796004 -0.66551154 -0.24263737  0.55533282]]\n"
     ]
    }
   ],
   "source": [
    "#자주 사용하는 메소드들 zeros, empty, arange\n",
    "# reshape, radom.randn\n",
    "print(np.zeros([2,3]))\n",
    "print(np.empty([2,3]))\n",
    "print(np.arange(10))\n",
    "print(np.arange(3*3).reshape(3,3))\n",
    "print(np.random.randn(3,4))"
   ]
  },
  {
   "cell_type": "code",
   "execution_count": 75,
   "id": "be45ea39",
   "metadata": {},
   "outputs": [
    {
     "name": "stdout",
     "output_type": "stream",
     "text": [
      "[[0 1 2 3]\n",
      " [0 1 2 3]]\n",
      "[[0 0]\n",
      " [1 1]\n",
      " [2 2]\n",
      " [3 3]]\n",
      "[[0 0]\n",
      " [1 1]\n",
      " [2 2]\n",
      " [3 3]]\n",
      "[[[0 1 2]\n",
      "  [3 4 5]]]\n",
      "[[[0]\n",
      "  [3]]\n",
      "\n",
      " [[1]\n",
      "  [4]]\n",
      "\n",
      " [[2]\n",
      "  [5]]]\n",
      "[[[0 1 2]]\n",
      "\n",
      " [[3 4 5]]]\n"
     ]
    }
   ],
   "source": [
    "# 자주사용하는 메소드 transpose 와 T속성 와 \n",
    "#두축을 교환하는 swapaxis  \n",
    "np.eye(3)\n",
    "s = np.array([np.arange(4),np.arange(4)])\n",
    "b = np.arange(6).reshape(1,2,3)\n",
    "print(s)\n",
    "print(s.T)\n",
    "print(s.swapaxes(0,1))\n",
    "print(b)\n",
    "print(b.transpose(2,1,0))\n",
    "print(b.transpose(1,0,2))"
   ]
  },
  {
   "cell_type": "code",
   "execution_count": 89,
   "id": "eefb79f1",
   "metadata": {},
   "outputs": [
    {
     "name": "stdout",
     "output_type": "stream",
     "text": [
      "[[0 1 2 3]\n",
      " [0 1 2 3]]\n",
      "(2, 4)\n",
      "2\n"
     ]
    },
    {
     "data": {
      "text/plain": [
       "dtype('int32')"
      ]
     },
     "execution_count": 89,
     "metadata": {},
     "output_type": "execute_result"
    }
   ],
   "source": [
    "#Numpy 특징, 데이터 타입\n",
    "print(s)\n",
    "print(s.shape) # 속성\n",
    "# s[1,2] 는 s[1][2] 랑 같다\n",
    "if s[1,2] == s[1][2]:\n",
    "    print(s[1,2])\n",
    "s.dtype"
   ]
  },
  {
   "cell_type": "code",
   "execution_count": 102,
   "id": "e6f869a5",
   "metadata": {},
   "outputs": [
    {
     "name": "stdout",
     "output_type": "stream",
     "text": [
      "[[0 1 2]\n",
      " [3 4 5]\n",
      " [6 7 8]]\n"
     ]
    },
    {
     "data": {
      "text/plain": [
       "array([3, 4])"
      ]
     },
     "execution_count": 102,
     "metadata": {},
     "output_type": "execute_result"
    }
   ],
   "source": [
    "#슬라이싱\n",
    "c = np.arange(9).reshape(3,3)\n",
    "print(c)\n",
    "c[:2,1:]\n",
    "c[2,:]\n",
    "c[:,:2]\n",
    "c[1,:2]"
   ]
  },
  {
   "cell_type": "code",
   "execution_count": 105,
   "id": "c5adefd2",
   "metadata": {},
   "outputs": [
    {
     "name": "stdout",
     "output_type": "stream",
     "text": [
      "[0 1 2 3 4 5]\n",
      "[0 2 5]\n"
     ]
    }
   ],
   "source": [
    "#불리언 색인\n",
    "t = np.array([1,2,1,3,4,1])\n",
    "s = np.arange(6)\n",
    "print(s)\n",
    "print(s[t==1])"
   ]
  },
  {
   "cell_type": "code",
   "execution_count": 113,
   "id": "3f9fa7dc",
   "metadata": {},
   "outputs": [
    {
     "name": "stdout",
     "output_type": "stream",
     "text": [
      "[[ 0  1  2  3]\n",
      " [ 4  5  6  7]\n",
      " [ 8  9 10 11]\n",
      " [12 13 14 15]\n",
      " [16 17 18 19]\n",
      " [20 21 22 23]\n",
      " [24 25 26 27]\n",
      " [28 29 30 31]] \n",
      "\n",
      "\n",
      "[ 9 15]\n"
     ]
    }
   ],
   "source": [
    "# 특정 요소의 값을 리트스로 반환 하는법\n",
    "d = np.arange(8*4).reshape(8,4)\n",
    "print(d,\"\\n\\n\")\n",
    "print(d[[2,3],[1,3]])"
   ]
  },
  {
   "cell_type": "code",
   "execution_count": 128,
   "id": "e16b1cbb",
   "metadata": {},
   "outputs": [
    {
     "name": "stdout",
     "output_type": "stream",
     "text": [
      "[[8 7 6]\n",
      " [5 4 3]\n",
      " [2 1 0]] \n",
      "\n",
      "[5. 4. 3.] \n",
      "\n",
      "[ 8 15 21 26 30 33 35 36 36] \n",
      "\n",
      "[[ 8 15 21]\n",
      " [ 5  9 12]\n",
      " [ 2  3  3]]\n",
      "[[6 7 8]\n",
      " [3 4 5]\n",
      " [0 1 2]]\n",
      "[[0 1 2]\n",
      " [3 4 5]\n",
      " [6 7 8]]\n"
     ]
    }
   ],
   "source": [
    "# 유니버셜 함수\n",
    "s = np.arange(8,-1,-1).reshape(3,3)\n",
    "print(s,\"\\n\")\n",
    "\n",
    "print(s.mean(axis = 0),\"\\n\")\n",
    "\n",
    "print(s.cumsum(),\"\\n\")\n",
    "\n",
    "print(s.cumsum(axis = 1))\n",
    "\n",
    "s.sort(1)\n",
    "print(s)\n",
    "s.sort(0)\n",
    "print(s)"
   ]
  },
  {
   "cell_type": "code",
   "execution_count": 159,
   "id": "ead2ab41",
   "metadata": {},
   "outputs": [
    {
     "name": "stdout",
     "output_type": "stream",
     "text": [
      "[-1 -1  1  1  1  1 -1 -1 -1 -1]\n",
      "[-1 -2 -1  0  1  2  1  0 -1 -2]\n",
      "-2\n",
      "2\n",
      "1\n",
      "\n",
      " 4\n"
     ]
    },
    {
     "data": {
      "image/png": "[encoded data removed]",
      "text/plain": [
       "<Figure size 432x288 with 1 Axes>"
      ]
     },
     "metadata": {
      "needs_background": "light"
     },
     "output_type": "display_data"
    }
   ],
   "source": [
    "#그림 그리기\n",
    "import matplotlib.pyplot as plt\n",
    "import random as rd\n",
    "np.random.seed(100)\n",
    "s = np.random.randint(0,2,size = 10)\n",
    "s = np.where(s>0,1,-1)\n",
    "walk = s.cumsum()\n",
    "print(s)\n",
    "print(walk)\n",
    "print(walk.min())\n",
    "print(walk.max())\n",
    "tval = 2\n",
    "print((np.abs(walk)>=tval).argmax())\n",
    "plt.plot(walk)\n",
    "b = np.array([1,2,3,1,1,1])\n",
    "c = b[b==1]\n",
    "print(\"\\n\",c.sum())"
   ]
  }
 ],
 "metadata": {
  "kernelspec": {
   "display_name": "Python 3 (ipykernel)",
   "language": "python",
   "name": "python3"
  },
  "language_info": {
   "codemirror_mode": {
    "name": "ipython",
    "version": 3
   },
   "file_extension": ".py",
   "mimetype": "text/x-python",
   "name": "python",
   "nbconvert_exporter": "python",
   "pygments_lexer": "ipython3",
   "version": "3.9.12"
  }
 },
 "nbformat": 4,
 "nbformat_minor": 5
}
