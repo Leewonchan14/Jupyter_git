{
 "cells": [
  {
   "cell_type": "markdown",
   "id": "89a5c073",
   "metadata": {},
   "source": [
    "## 1. Pandas import문"
   ]
  },
  {
   "cell_type": "code",
   "execution_count": null,
   "id": "d934f953",
   "metadata": {},
   "outputs": [],
   "source": [
    "#\n",
    "from pandas import Series,DataFrame\n",
    "import pandas as pd\n",
    "\n",
    "import numpy as np"
   ]
  },
  {
   "cell_type": "markdown",
   "id": "518b54a6",
   "metadata": {},
   "source": [
    "## 2. Series 선언"
   ]
  },
  {
   "cell_type": "code",
   "execution_count": 19,
   "id": "16db7b35",
   "metadata": {},
   "outputs": [
    {
     "name": "stdout",
     "output_type": "stream",
     "text": [
      "0    1\n",
      "1    2\n",
      "2    3\n",
      "3    4\n",
      "4    5\n",
      "Name: Prac, dtype: int64\n",
      "[1 2 3 4 5]\n",
      "RangeIndex(start=0, stop=5, step=1)\n",
      "Index(['a', 'b', 'c', 'd', 'e'], dtype='object')\n",
      "Prac\n"
     ]
    }
   ],
   "source": [
    "\n",
    "s = Series([1,2,3,4,5])\n",
    "s.name = \"Prac\"\n",
    "print(s)\n",
    "print(s.values)\n",
    "print(s.index)\n",
    "s.index = ['a','b','c','d','e']\n",
    "print(s.index)\n",
    "print(s.name)"
   ]
  },
  {
   "cell_type": "markdown",
   "id": "117fb536",
   "metadata": {},
   "source": [
    "## 3. numpy 처럼 조건식, 산술식 가능"
   ]
  },
  {
   "cell_type": "code",
   "execution_count": 55,
   "id": "4b948ba6",
   "metadata": {},
   "outputs": [
    {
     "data": {
      "text/plain": [
       "1    1\n",
       "2    2\n",
       "3    3\n",
       "dtype: int64"
      ]
     },
     "execution_count": 55,
     "metadata": {},
     "output_type": "execute_result"
    }
   ],
   "source": [
    "#딕셔너리로 생성\n",
    "c = {'1':1,'2':2,'3':3}\n",
    "c_index = ['a','b','c','d']\n",
    "\n",
    "c = Series(c)\n",
    "c"
   ]
  },
  {
   "cell_type": "markdown",
   "id": "cebcb664",
   "metadata": {},
   "source": [
    "## 4. +연산은 합집합 연산이다. 하나만 있으면 NaN"
   ]
  },
  {
   "cell_type": "code",
   "execution_count": 40,
   "id": "9092b570",
   "metadata": {},
   "outputs": [
    {
     "name": "stdout",
     "output_type": "stream",
     "text": [
      "1    1\n",
      "2    2\n",
      "3    3\n",
      "dtype: int64\n",
      "2    2\n",
      "3    3\n",
      "4    4\n",
      "dtype: int64\n",
      "1    NaN\n",
      "2    4.0\n",
      "3    6.0\n",
      "4    NaN\n",
      "dtype: float64\n",
      "colums\n",
      "1    1\n",
      "2    2\n",
      "3    3\n",
      "Name: row, dtype: int64\n"
     ]
    }
   ],
   "source": [
    "c = Series([1,2,3],index = [1,2,3])\n",
    "d = Series([2,3,4],index = [2,3,4])\n",
    "print(c)\n",
    "print(d)\n",
    "print(c+d)\n",
    "#Series 색인의 name 속성이 따로 있다.\n",
    "c.index.name = \"colums\"\n",
    "c.name = \"row\"\n",
    "print(c)"
   ]
  },
  {
   "cell_type": "markdown",
   "id": "380157d7",
   "metadata": {},
   "source": [
    "## 5. DataFrame 선언"
   ]
  },
  {
   "cell_type": "code",
   "execution_count": 56,
   "id": "540dd2bb",
   "metadata": {},
   "outputs": [
    {
     "name": "stdout",
     "output_type": "stream",
     "text": [
      "    c1  c2\n",
      "r1   1   1\n",
      "r2   2   2\n",
      "      year state  pop debt   c1   c2\n",
      "one    NaN   NaN  NaN  NaN  NaN  NaN\n",
      "two    NaN   NaN  NaN  NaN  NaN  NaN\n",
      "three  NaN   NaN  NaN  NaN  NaN  NaN\n",
      "four   NaN   NaN  NaN  NaN  NaN  NaN\n",
      "five   NaN   NaN  NaN  NaN  NaN  NaN\n",
      "r1     NaN   NaN  NaN  NaN  1.0  1.0\n",
      "r2     NaN   NaN  NaN  NaN  2.0  2.0\n"
     ]
    }
   ],
   "source": [
    "data = {'c1':{'r1':1,'r2':2},'c2':{'r1':1,'r2':2}}\n",
    "print(DataFrame(data))\n",
    "data2 = DataFrame(data, columns=['year', 'state', 'pop', 'debt','c1','c2'],\n",
    "                   index=['one', 'two', 'three', 'four', 'five','r1','r2'])\n",
    "print(data2)"
   ]
  },
  {
   "cell_type": "markdown",
   "id": "b470add0",
   "metadata": {},
   "source": [
    "## 6. DataFrame index, columns 속성(객체) 접근 방법"
   ]
  },
  {
   "cell_type": "code",
   "execution_count": 45,
   "id": "2d7834ee",
   "metadata": {},
   "outputs": [
    {
     "name": "stdout",
     "output_type": "stream",
     "text": [
      "Index(['a', 'b', 'c'], dtype='object')\n"
     ]
    },
    {
     "data": {
      "text/html": [
       "<div>\n",
       "<style scoped>\n",
       "    .dataframe tbody tr th:only-of-type {\n",
       "        vertical-align: middle;\n",
       "    }\n",
       "\n",
       "    .dataframe tbody tr th {\n",
       "        vertical-align: top;\n",
       "    }\n",
       "\n",
       "    .dataframe thead th {\n",
       "        text-align: right;\n",
       "    }\n",
       "</style>\n",
       "<table border=\"1\" class=\"dataframe\">\n",
       "  <thead>\n",
       "    <tr style=\"text-align: right;\">\n",
       "      <th></th>\n",
       "      <th>d</th>\n",
       "      <th>e</th>\n",
       "      <th>f</th>\n",
       "    </tr>\n",
       "  </thead>\n",
       "  <tbody>\n",
       "    <tr>\n",
       "      <th>a</th>\n",
       "      <td>0</td>\n",
       "      <td>1</td>\n",
       "      <td>2</td>\n",
       "    </tr>\n",
       "    <tr>\n",
       "      <th>b</th>\n",
       "      <td>3</td>\n",
       "      <td>4</td>\n",
       "      <td>5</td>\n",
       "    </tr>\n",
       "    <tr>\n",
       "      <th>c</th>\n",
       "      <td>6</td>\n",
       "      <td>7</td>\n",
       "      <td>8</td>\n",
       "    </tr>\n",
       "  </tbody>\n",
       "</table>\n",
       "</div>"
      ],
      "text/plain": [
       "   d  e  f\n",
       "a  0  1  2\n",
       "b  3  4  5\n",
       "c  6  7  8"
      ]
     },
     "execution_count": 45,
     "metadata": {},
     "output_type": "execute_result"
    }
   ],
   "source": [
    "data = DataFrame(np.arange(3*3).reshape(3,3))\n",
    "data.index = ['a','b','c']\n",
    "data.columns = ['d','e','f']\n",
    "index = data.index\n",
    "print(index)\n",
    "data"
   ]
  },
  {
   "cell_type": "markdown",
   "id": "af2a02ac",
   "metadata": {},
   "source": [
    "## 7. Columns 또는 Index 순서 변경( 새로운 객체 반환!!!! )"
   ]
  },
  {
   "cell_type": "code",
   "execution_count": 57,
   "id": "a5b5cf0c",
   "metadata": {},
   "outputs": [
    {
     "name": "stdout",
     "output_type": "stream",
     "text": [
      "   0  1  2\n",
      "2  6  7  8\n",
      "1  3  4  5\n",
      "0  0  1  2 \n",
      "\n",
      "   0  1  2\n",
      "3  0  0  0\n",
      "3  0  0  0\n",
      "3  0  0  0 \n",
      "\n",
      "   0  1  2\n",
      "3  6  7  8\n",
      "3  6  7  8\n",
      "3  6  7  8 \n",
      "\n",
      "    0   1   2\n",
      "3 NaN NaN NaN\n",
      "3 NaN NaN NaN\n",
      "3 NaN NaN NaN \n",
      "\n"
     ]
    }
   ],
   "source": [
    "data = DataFrame(np.arange(9).reshape(3,3))\n",
    "print(data.reindex([2,1,0]),\"\\n\")\n",
    "#1 없는걸 0으로  fill_values = 0\n",
    "print(data.reindex([3,3,3],fill_value = 0),\"\\n\")\n",
    "#2없는걸 앞에걸로\n",
    "print(data.reindex([3,3,3],method = \"ffill\"),\"\\n\")\n",
    "#3없는걸 뒤에걸로\n",
    "print(data.reindex([3,3,3],method = \"bfill\"),\"\\n\")"
   ]
  },
  {
   "cell_type": "markdown",
   "id": "d5a0c717",
   "metadata": {},
   "source": [
    "## 8. Droppin(지우기, 새로운 객체 반환!!!), 기본적으로 index가 axis = 0이다."
   ]
  },
  {
   "cell_type": "code",
   "execution_count": 73,
   "id": "32d43573",
   "metadata": {},
   "outputs": [
    {
     "name": "stdout",
     "output_type": "stream",
     "text": [
      "   0  1  2\n",
      "0  0  1  2\n",
      "1  3  4  5\n",
      "2  6  7  8 \n",
      "\n",
      "   1  2\n",
      "0  1  2\n",
      "1  4  5\n",
      "2  7  8 \n",
      "\n",
      "   0  1  2\n",
      "1  3  4  5\n",
      "2  6  7  8\n"
     ]
    }
   ],
   "source": [
    "data = DataFrame(np.arange(9).reshape(3,3))\n",
    "s = Series(np.arange(3))\n",
    "print(data,\"\\n\")\n",
    "print(data.drop(0,axis = 1),\"\\n\")\n",
    "print(data.drop(0,axis = 0))"
   ]
  },
  {
   "cell_type": "markdown",
   "id": "271e3ae2",
   "metadata": {},
   "source": [
    "## 10.\n",
    "\n",
    "## 슬라이싱~ Series 포함, 문자열 슬라이싱은 stop을 포함 한다!!!\n",
    "\n",
    "\n",
    "\n",
    "## DataFrame에서 행을 슬라이싱 하고 싶다면 loc을 사용!"
   ]
  },
  {
   "cell_type": "code",
   "execution_count": 80,
   "id": "52ab4953",
   "metadata": {},
   "outputs": [
    {
     "data": {
      "text/html": [
       "<div>\n",
       "<style scoped>\n",
       "    .dataframe tbody tr th:only-of-type {\n",
       "        vertical-align: middle;\n",
       "    }\n",
       "\n",
       "    .dataframe tbody tr th {\n",
       "        vertical-align: top;\n",
       "    }\n",
       "\n",
       "    .dataframe thead th {\n",
       "        text-align: right;\n",
       "    }\n",
       "</style>\n",
       "<table border=\"1\" class=\"dataframe\">\n",
       "  <thead>\n",
       "    <tr style=\"text-align: right;\">\n",
       "      <th></th>\n",
       "      <th>one</th>\n",
       "    </tr>\n",
       "  </thead>\n",
       "  <tbody>\n",
       "    <tr>\n",
       "      <th>Ohio</th>\n",
       "      <td>0</td>\n",
       "    </tr>\n",
       "    <tr>\n",
       "      <th>Colorado</th>\n",
       "      <td>4</td>\n",
       "    </tr>\n",
       "    <tr>\n",
       "      <th>Utah</th>\n",
       "      <td>8</td>\n",
       "    </tr>\n",
       "    <tr>\n",
       "      <th>New York</th>\n",
       "      <td>12</td>\n",
       "    </tr>\n",
       "  </tbody>\n",
       "</table>\n",
       "</div>"
      ],
      "text/plain": [
       "          one\n",
       "Ohio        0\n",
       "Colorado    4\n",
       "Utah        8\n",
       "New York   12"
      ]
     },
     "execution_count": 80,
     "metadata": {},
     "output_type": "execute_result"
    }
   ],
   "source": [
    "data = DataFrame(np.arange(16).reshape((4, 4)),\n",
    "                 index=['Ohio', 'Colorado', 'Utah', 'New York'],\n",
    "                 columns=['one', 'two', 'three', 'four'])\n",
    "data[['one']]"
   ]
  },
  {
   "cell_type": "markdown",
   "id": "7917dabe",
   "metadata": {},
   "source": [
    "## 11.\n",
    "\n",
    "## DataFame에 조건에 맞는 셀에 값을 대입 할때\n",
    "\n",
    "## loc 사용법 또는 (숫자로하는)iloc 사용법( Row메이저인 속성값(시퀸셜) 이다)"
   ]
  },
  {
   "cell_type": "code",
   "execution_count": 86,
   "id": "119574b9",
   "metadata": {},
   "outputs": [
    {
     "name": "stdout",
     "output_type": "stream",
     "text": [
      "   0  1  2\n",
      "0  0  0  0\n",
      "1  0  4  5\n",
      "2  6  7  8\n",
      "1    0\n",
      "2    0\n",
      "Name: 0, dtype: int32\n",
      "5\n",
      "   0  1  2\n",
      "0  0  0  0\n",
      "1  0  4  5\n",
      "2  6  7  8\n"
     ]
    }
   ],
   "source": [
    "data = DataFrame(np.arange(9).reshape(3,3))\n",
    "data[data<4] = 0\n",
    "print(data)\n",
    "\n",
    "print(data.loc[0,[1,2]])\n",
    "print(data.iloc[1,2])\n",
    "print(data.loc[:,:])"
   ]
  },
  {
   "cell_type": "markdown",
   "id": "b636d990",
   "metadata": {},
   "source": [
    "## 12.\n",
    "\n",
    "## 산술연산 + 는 조인 연산이다\n",
    "\n",
    "## add 메소드 사용가능( fill_values 설정 가능 하다)"
   ]
  },
  {
   "cell_type": "code",
   "execution_count": 96,
   "id": "56591a7e",
   "metadata": {},
   "outputs": [
    {
     "name": "stdout",
     "output_type": "stream",
     "text": [
      "    a     b     c   d\n",
      "1 NaN   NaN   NaN NaN\n",
      "2 NaN   4.0   6.0 NaN\n",
      "3 NaN  10.0  12.0 NaN\n",
      "4 NaN   NaN   NaN NaN \n",
      "\n",
      "     a     b     c    d\n",
      "1  0.0   1.0   2.0  NaN\n",
      "2  3.0   4.0   6.0  2.0\n",
      "3  6.0  10.0  12.0  5.0\n",
      "4  NaN   6.0   7.0  8.0 \n",
      "\n",
      "   a  b  c\n",
      "2  3  4  5\n",
      "3  6  7  8\n",
      "4  0  0  0\n"
     ]
    }
   ],
   "source": [
    "a = DataFrame(np.arange(9).reshape(3,3),index = list('123'), columns = list('abc'))\n",
    "b = DataFrame(np.arange(9).reshape(3,3),index = list('234'), columns = list('bcd'))\n",
    "print(a+b,\"\\n\")\n",
    "\n",
    "print(a.add(b,fill_value = 0),\"\\n\")\n",
    "print(a.reindex(b.index,fill_value = 0))"
   ]
  },
  {
   "cell_type": "markdown",
   "id": "1a7c5dad",
   "metadata": {},
   "source": [
    "## 13 . 브로드 캐스팅 가능!!"
   ]
  },
  {
   "cell_type": "code",
   "execution_count": 126,
   "id": "e5f9fad5",
   "metadata": {},
   "outputs": [
    {
     "name": "stdout",
     "output_type": "stream",
     "text": [
      "[[ 0.  1.  2.  3.]\n",
      " [ 4.  5.  6.  7.]\n",
      " [ 8.  9. 10. 11.]] \n",
      "\n"
     ]
    },
    {
     "data": {
      "text/plain": [
       "array([[0., 0., 0., 0.],\n",
       "       [4., 4., 4., 4.],\n",
       "       [8., 8., 8., 8.]])"
      ]
     },
     "execution_count": 126,
     "metadata": {},
     "output_type": "execute_result"
    }
   ],
   "source": [
    "arr = np.arange(12.).reshape((3, 4))\n",
    "print(arr,\"\\n\")\n",
    "arr - arr[0]"
   ]
  },
  {
   "cell_type": "code",
   "execution_count": 134,
   "id": "1f1ede79",
   "metadata": {},
   "outputs": [
    {
     "data": {
      "text/html": [
       "<div>\n",
       "<style scoped>\n",
       "    .dataframe tbody tr th:only-of-type {\n",
       "        vertical-align: middle;\n",
       "    }\n",
       "\n",
       "    .dataframe tbody tr th {\n",
       "        vertical-align: top;\n",
       "    }\n",
       "\n",
       "    .dataframe thead th {\n",
       "        text-align: right;\n",
       "    }\n",
       "</style>\n",
       "<table border=\"1\" class=\"dataframe\">\n",
       "  <thead>\n",
       "    <tr style=\"text-align: right;\">\n",
       "      <th></th>\n",
       "      <th>b</th>\n",
       "      <th>d</th>\n",
       "      <th>e</th>\n",
       "    </tr>\n",
       "  </thead>\n",
       "  <tbody>\n",
       "    <tr>\n",
       "      <th>Utah</th>\n",
       "      <td>-1.0</td>\n",
       "      <td>0.0</td>\n",
       "      <td>1.0</td>\n",
       "    </tr>\n",
       "    <tr>\n",
       "      <th>Ohio</th>\n",
       "      <td>-1.0</td>\n",
       "      <td>0.0</td>\n",
       "      <td>1.0</td>\n",
       "    </tr>\n",
       "    <tr>\n",
       "      <th>Texas</th>\n",
       "      <td>-1.0</td>\n",
       "      <td>0.0</td>\n",
       "      <td>1.0</td>\n",
       "    </tr>\n",
       "    <tr>\n",
       "      <th>Oregon</th>\n",
       "      <td>-1.0</td>\n",
       "      <td>0.0</td>\n",
       "      <td>1.0</td>\n",
       "    </tr>\n",
       "  </tbody>\n",
       "</table>\n",
       "</div>"
      ],
      "text/plain": [
       "          b    d    e\n",
       "Utah   -1.0  0.0  1.0\n",
       "Ohio   -1.0  0.0  1.0\n",
       "Texas  -1.0  0.0  1.0\n",
       "Oregon -1.0  0.0  1.0"
      ]
     },
     "execution_count": 134,
     "metadata": {},
     "output_type": "execute_result"
    }
   ],
   "source": [
    "frame = DataFrame(np.arange(12.).reshape((4, 3)), columns=list('bde'),\n",
    "                  index=['Utah', 'Ohio', 'Texas', 'Oregon'])\n",
    "s = Series(list(range(3)),index = list('bde'))\n",
    "frame.sub(frame['d'],axis = 0)"
   ]
  },
  {
   "cell_type": "markdown",
   "id": "117f8e29",
   "metadata": {},
   "source": [
    "## 14.\n",
    "\n",
    "## 함수의 적용과 매핑 .apply(함수, 축방향)\n",
    "\n",
    "## 각 셀마다 => .applymap(함수)"
   ]
  },
  {
   "cell_type": "code",
   "execution_count": 155,
   "id": "1f16e3b8",
   "metadata": {},
   "outputs": [
    {
     "name": "stdout",
     "output_type": "stream",
     "text": [
      "0    2\n",
      "1    5\n",
      "2    8\n",
      "dtype: int64\n",
      "   a  b  c\n",
      "0  0  1  2\n",
      "1  0  1  2\n",
      "2  0  1  2\n"
     ]
    }
   ],
   "source": [
    "s = DataFrame(np.arange(9).reshape(3,3),columns = list('abc'))\n",
    "\n",
    "\n",
    "f = lambda x : x.max()\n",
    "print(s.apply(f,axis = 1))\n",
    "\n",
    "\n",
    "f = lambda x:x%3\n",
    "print(s.applymap(f))"
   ]
  },
  {
   "cell_type": "markdown",
   "id": "87a307a1",
   "metadata": {},
   "source": [
    "# 중요!"
   ]
  },
  {
   "cell_type": "code",
   "execution_count": 156,
   "id": "dcac300b",
   "metadata": {},
   "outputs": [
    {
     "data": {
      "text/html": [
       "<div>\n",
       "<style scoped>\n",
       "    .dataframe tbody tr th:only-of-type {\n",
       "        vertical-align: middle;\n",
       "    }\n",
       "\n",
       "    .dataframe tbody tr th {\n",
       "        vertical-align: top;\n",
       "    }\n",
       "\n",
       "    .dataframe thead th {\n",
       "        text-align: right;\n",
       "    }\n",
       "</style>\n",
       "<table border=\"1\" class=\"dataframe\">\n",
       "  <thead>\n",
       "    <tr style=\"text-align: right;\">\n",
       "      <th></th>\n",
       "      <th>a</th>\n",
       "      <th>b</th>\n",
       "      <th>c</th>\n",
       "    </tr>\n",
       "  </thead>\n",
       "  <tbody>\n",
       "    <tr>\n",
       "      <th>min</th>\n",
       "      <td>0</td>\n",
       "      <td>1</td>\n",
       "      <td>2</td>\n",
       "    </tr>\n",
       "    <tr>\n",
       "      <th>max</th>\n",
       "      <td>6</td>\n",
       "      <td>7</td>\n",
       "      <td>8</td>\n",
       "    </tr>\n",
       "  </tbody>\n",
       "</table>\n",
       "</div>"
      ],
      "text/plain": [
       "     a  b  c\n",
       "min  0  1  2\n",
       "max  6  7  8"
      ]
     },
     "execution_count": 156,
     "metadata": {},
     "output_type": "execute_result"
    }
   ],
   "source": [
    "def f(x):\n",
    "    return Series([x.min(), x.max()], index=['min', 'max'])\n",
    "s.apply(f,axis = 0)"
   ]
  },
  {
   "cell_type": "markdown",
   "id": "1d0e8287",
   "metadata": {},
   "source": [
    "## 15. 정렬, 랭킹 sort_index 또는 sort_values\n",
    "\n",
    "## DataFrame에서 디폴트(axis = 0)는 index(로우) 이다., 솔트 밸류는 by값 지정!!!"
   ]
  },
  {
   "cell_type": "code",
   "execution_count": 164,
   "id": "fe1f324a",
   "metadata": {},
   "outputs": [
    {
     "data": {
      "text/html": [
       "<div>\n",
       "<style scoped>\n",
       "    .dataframe tbody tr th:only-of-type {\n",
       "        vertical-align: middle;\n",
       "    }\n",
       "\n",
       "    .dataframe tbody tr th {\n",
       "        vertical-align: top;\n",
       "    }\n",
       "\n",
       "    .dataframe thead th {\n",
       "        text-align: right;\n",
       "    }\n",
       "</style>\n",
       "<table border=\"1\" class=\"dataframe\">\n",
       "  <thead>\n",
       "    <tr style=\"text-align: right;\">\n",
       "      <th></th>\n",
       "      <th>a</th>\n",
       "      <th>b</th>\n",
       "      <th>c</th>\n",
       "      <th>d</th>\n",
       "    </tr>\n",
       "  </thead>\n",
       "  <tbody>\n",
       "    <tr>\n",
       "      <th>three</th>\n",
       "      <td>1</td>\n",
       "      <td>2</td>\n",
       "      <td>3</td>\n",
       "      <td>0</td>\n",
       "    </tr>\n",
       "    <tr>\n",
       "      <th>one</th>\n",
       "      <td>5</td>\n",
       "      <td>6</td>\n",
       "      <td>7</td>\n",
       "      <td>4</td>\n",
       "    </tr>\n",
       "  </tbody>\n",
       "</table>\n",
       "</div>"
      ],
      "text/plain": [
       "       a  b  c  d\n",
       "three  1  2  3  0\n",
       "one    5  6  7  4"
      ]
     },
     "execution_count": 164,
     "metadata": {},
     "output_type": "execute_result"
    }
   ],
   "source": [
    "o = Series([2,1,3,4],index = list('dabc'))\n",
    "o.sort_values()\n",
    "\n",
    "d = DataFrame(np.arange(8).reshape(2,4),index = ['three','one'],columns = list('dabc'))\n",
    "d.sort_index(axis = 1)"
   ]
  },
  {
   "cell_type": "code",
   "execution_count": 165,
   "id": "2017a1f9",
   "metadata": {},
   "outputs": [
    {
     "data": {
      "text/html": [
       "<div>\n",
       "<style scoped>\n",
       "    .dataframe tbody tr th:only-of-type {\n",
       "        vertical-align: middle;\n",
       "    }\n",
       "\n",
       "    .dataframe tbody tr th {\n",
       "        vertical-align: top;\n",
       "    }\n",
       "\n",
       "    .dataframe thead th {\n",
       "        text-align: right;\n",
       "    }\n",
       "</style>\n",
       "<table border=\"1\" class=\"dataframe\">\n",
       "  <thead>\n",
       "    <tr style=\"text-align: right;\">\n",
       "      <th></th>\n",
       "      <th>b</th>\n",
       "      <th>a</th>\n",
       "    </tr>\n",
       "  </thead>\n",
       "  <tbody>\n",
       "    <tr>\n",
       "      <th>0</th>\n",
       "      <td>4</td>\n",
       "      <td>0</td>\n",
       "    </tr>\n",
       "    <tr>\n",
       "      <th>1</th>\n",
       "      <td>7</td>\n",
       "      <td>1</td>\n",
       "    </tr>\n",
       "    <tr>\n",
       "      <th>2</th>\n",
       "      <td>-3</td>\n",
       "      <td>0</td>\n",
       "    </tr>\n",
       "    <tr>\n",
       "      <th>3</th>\n",
       "      <td>2</td>\n",
       "      <td>1</td>\n",
       "    </tr>\n",
       "  </tbody>\n",
       "</table>\n",
       "</div>"
      ],
      "text/plain": [
       "   b  a\n",
       "0  4  0\n",
       "1  7  1\n",
       "2 -3  0\n",
       "3  2  1"
      ]
     },
     "execution_count": 165,
     "metadata": {},
     "output_type": "execute_result"
    }
   ],
   "source": [
    "frame = DataFrame({'b': [4, 7, -3, 2], 'a': [0, 1, 0, 1]})\n",
    "frame"
   ]
  },
  {
   "cell_type": "code",
   "execution_count": 169,
   "id": "4aad96a0",
   "metadata": {},
   "outputs": [
    {
     "data": {
      "text/html": [
       "<div>\n",
       "<style scoped>\n",
       "    .dataframe tbody tr th:only-of-type {\n",
       "        vertical-align: middle;\n",
       "    }\n",
       "\n",
       "    .dataframe tbody tr th {\n",
       "        vertical-align: top;\n",
       "    }\n",
       "\n",
       "    .dataframe thead th {\n",
       "        text-align: right;\n",
       "    }\n",
       "</style>\n",
       "<table border=\"1\" class=\"dataframe\">\n",
       "  <thead>\n",
       "    <tr style=\"text-align: right;\">\n",
       "      <th></th>\n",
       "      <th>b</th>\n",
       "      <th>a</th>\n",
       "    </tr>\n",
       "  </thead>\n",
       "  <tbody>\n",
       "    <tr>\n",
       "      <th>2</th>\n",
       "      <td>-3</td>\n",
       "      <td>0</td>\n",
       "    </tr>\n",
       "    <tr>\n",
       "      <th>0</th>\n",
       "      <td>4</td>\n",
       "      <td>0</td>\n",
       "    </tr>\n",
       "    <tr>\n",
       "      <th>3</th>\n",
       "      <td>2</td>\n",
       "      <td>1</td>\n",
       "    </tr>\n",
       "    <tr>\n",
       "      <th>1</th>\n",
       "      <td>7</td>\n",
       "      <td>1</td>\n",
       "    </tr>\n",
       "  </tbody>\n",
       "</table>\n",
       "</div>"
      ],
      "text/plain": [
       "   b  a\n",
       "2 -3  0\n",
       "0  4  0\n",
       "3  2  1\n",
       "1  7  1"
      ]
     },
     "execution_count": 169,
     "metadata": {},
     "output_type": "execute_result"
    }
   ],
   "source": [
    "frame.sort_values(by = list('ab'))"
   ]
  },
  {
   "cell_type": "markdown",
   "id": "2b40b062",
   "metadata": {},
   "source": [
    "## 16. 랭킹 작은거 부터 1~부터 순위를 매김\n",
    " \n",
    "## 같은 값이면 0.5 순위\n",
    "\n",
    "## method='first' 먼저나온게 높은순위\n",
    "\n",
    "## method = 'max' 큰값 부터 같은 순위 매기기\n",
    "\n",
    "## ascending = False 역순"
   ]
  },
  {
   "cell_type": "code",
   "execution_count": 181,
   "id": "5a8f77a6",
   "metadata": {},
   "outputs": [
    {
     "data": {
      "text/plain": [
       "0    1.0\n",
       "1    2.0\n",
       "2    4.0\n",
       "3    4.0\n",
       "dtype: float64"
      ]
     },
     "execution_count": 181,
     "metadata": {},
     "output_type": "execute_result"
    }
   ],
   "source": [
    "s = Series([1,2,3,3])\n",
    "s.rank(ascending = True,method = 'max')"
   ]
  }
 ],
 "metadata": {
  "kernelspec": {
   "display_name": "Python 3 (ipykernel)",
   "language": "python",
   "name": "python3"
  },
  "language_info": {
   "codemirror_mode": {
    "name": "ipython",
    "version": 3
   },
   "file_extension": ".py",
   "mimetype": "text/x-python",
   "name": "python",
   "nbconvert_exporter": "python",
   "pygments_lexer": "ipython3",
   "version": "3.9.12"
  }
 },
 "nbformat": 4,
 "nbformat_minor": 5
}
