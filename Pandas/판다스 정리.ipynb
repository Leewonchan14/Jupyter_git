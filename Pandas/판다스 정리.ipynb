{
 "cells": [
  {
   "cell_type": "code",
   "execution_count": 5,
   "id": "d707e888",
   "metadata": {},
   "outputs": [],
   "source": [
    "#Pandas import문\n",
    "from pandas import Series,DataFrame\n",
    "import pandas as pd\n",
    "\n",
    "import numpy as np"
   ]
  },
  {
   "cell_type": "code",
   "execution_count": 19,
   "id": "16db7b35",
   "metadata": {},
   "outputs": [
    {
     "name": "stdout",
     "output_type": "stream",
     "text": [
      "0    1\n",
      "1    2\n",
      "2    3\n",
      "3    4\n",
      "4    5\n",
      "Name: Prac, dtype: int64\n",
      "[1 2 3 4 5]\n",
      "RangeIndex(start=0, stop=5, step=1)\n",
      "Index(['a', 'b', 'c', 'd', 'e'], dtype='object')\n",
      "Prac\n"
     ]
    }
   ],
   "source": [
    "#Series 선언\n",
    "s = Series([1,2,3,4,5])\n",
    "s.name = \"Prac\"\n",
    "print(s)\n",
    "print(s.values)\n",
    "print(s.index)\n",
    "s.index = ['a','b','c','d','e']\n",
    "print(s.index)\n",
    "print(s.name)"
   ]
  },
  {
   "cell_type": "code",
   "execution_count": 35,
   "id": "4b948ba6",
   "metadata": {},
   "outputs": [
    {
     "data": {
      "text/plain": [
       "1    1\n",
       "2    2\n",
       "3    3\n",
       "dtype: int64"
      ]
     },
     "execution_count": 35,
     "metadata": {},
     "output_type": "execute_result"
    }
   ],
   "source": [
    "#numpy 처럼 조건식, 산술식 가능\n",
    "s.max()\n",
    "#딕셔너리로 생성\n",
    "c = {'1':1,'2':2,'3':3}\n",
    "c_index = ['a','b','c','d']\n",
    "\n",
    "c = Series(c)\n",
    "c"
   ]
  },
  {
   "cell_type": "code",
   "execution_count": 40,
   "id": "9092b570",
   "metadata": {},
   "outputs": [
    {
     "name": "stdout",
     "output_type": "stream",
     "text": [
      "1    1\n",
      "2    2\n",
      "3    3\n",
      "dtype: int64\n",
      "2    2\n",
      "3    3\n",
      "4    4\n",
      "dtype: int64\n",
      "1    NaN\n",
      "2    4.0\n",
      "3    6.0\n",
      "4    NaN\n",
      "dtype: float64\n",
      "colums\n",
      "1    1\n",
      "2    2\n",
      "3    3\n",
      "Name: row, dtype: int64\n"
     ]
    }
   ],
   "source": [
    "#+연산은 합집합 연산이다. 하나만 있으면 NaN\n",
    "c = Series([1,2,3],index = [1,2,3])\n",
    "d = Series([2,3,4],index = [2,3,4])\n",
    "print(c)\n",
    "print(d)\n",
    "print(c+d)\n",
    "#Series 색인의 name 속성이 따로 있다.\n",
    "c.index.name = \"colums\"\n",
    "c.name = \"row\"\n",
    "print(c)"
   ]
  },
  {
   "cell_type": "code",
   "execution_count": 44,
   "id": "540dd2bb",
   "metadata": {},
   "outputs": [
    {
     "name": "stdout",
     "output_type": "stream",
     "text": [
      "    c1  c2\n",
      "r1   1   1\n",
      "r2   2   2\n",
      "      year state  pop debt\n",
      "one    NaN   NaN  NaN  NaN\n",
      "two    NaN   NaN  NaN  NaN\n",
      "three  NaN   NaN  NaN  NaN\n",
      "four   NaN   NaN  NaN  NaN\n",
      "five   NaN   NaN  NaN  NaN\n"
     ]
    }
   ],
   "source": [
    "# DataFrame 선언\n",
    "data = {'c1':{'r1':1,'r2':2},'c2':{'r1':1,'r2':2}}\n",
    "print(DataFrame(data))\n",
    "data2 = DataFrame(data, columns=['year', 'state', 'pop', 'debt'],\n",
    "                   index=['one', 'two', 'three', 'four', 'five'])\n",
    "print(data2)"
   ]
  },
  {
   "cell_type": "code",
   "execution_count": null,
   "id": "2d7834ee",
   "metadata": {},
   "outputs": [],
   "source": [
    "# DataFrame index, columns 속성"
   ]
  }
 ],
 "metadata": {
  "kernelspec": {
   "display_name": "Python 3 (ipykernel)",
   "language": "python",
   "name": "python3"
  },
  "language_info": {
   "codemirror_mode": {
    "name": "ipython",
    "version": 3
   },
   "file_extension": ".py",
   "mimetype": "text/x-python",
   "name": "python",
   "nbconvert_exporter": "python",
   "pygments_lexer": "ipython3",
   "version": "3.9.12"
  }
 },
 "nbformat": 4,
 "nbformat_minor": 5
}
